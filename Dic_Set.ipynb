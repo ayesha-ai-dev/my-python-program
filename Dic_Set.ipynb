{
  "nbformat": 4,
  "nbformat_minor": 0,
  "metadata": {
    "colab": {
      "provenance": [],
      "authorship_tag": "ABX9TyP3IeUNxAPUs7Njt/beoG0d",
      "include_colab_link": true
    },
    "kernelspec": {
      "name": "python3",
      "display_name": "Python 3"
    },
    "language_info": {
      "name": "python"
    }
  },
  "cells": [
    {
      "cell_type": "markdown",
      "metadata": {
        "id": "view-in-github",
        "colab_type": "text"
      },
      "source": [
        "<a href=\"https://colab.research.google.com/github/ayesha-ai-dev/my-python-program/blob/main/Dic_Set.ipynb\" target=\"_parent\"><img src=\"https://colab.research.google.com/assets/colab-badge.svg\" alt=\"Open In Colab\"/></a>"
      ]
    },
    {
      "cell_type": "markdown",
      "source": [
        "**Dictionary**"
      ],
      "metadata": {
        "id": "J-bMLrAn9wuz"
      }
    },
    {
      "cell_type": "code",
      "execution_count": 11,
      "metadata": {
        "colab": {
          "base_uri": "https://localhost:8080/"
        },
        "id": "XhJIsBOs9uUb",
        "outputId": "f74df08b-1342-4917-bb8b-c14027b6af3c"
      },
      "outputs": [
        {
          "output_type": "stream",
          "name": "stdout",
          "text": [
            "dict_items([('ayesha', 90), ('smara', 80), ('khadij', 20)])\n"
          ]
        }
      ],
      "source": [
        "marks={\n",
        "    'ayesha' : 90,\n",
        "    'smara' : 80,\n",
        "   'khadij' : 20,\n",
        "}\n",
        "#print(marks, type(marks))\n",
        "#print(marks['ayesha'])\n",
        "print(marks.items())"
      ]
    },
    {
      "cell_type": "code",
      "source": [
        "marks={\n",
        "    'ayesha' : 90,\n",
        "    'smara' : 80,\n",
        "   'khadij' : 20,\n",
        "}\n",
        "\n",
        "print(marks.keys())"
      ],
      "metadata": {
        "colab": {
          "base_uri": "https://localhost:8080/"
        },
        "id": "DA9SC854LJhc",
        "outputId": "36c76d78-f67b-4a44-9619-132574af875f"
      },
      "execution_count": 12,
      "outputs": [
        {
          "output_type": "stream",
          "name": "stdout",
          "text": [
            "dict_keys(['ayesha', 'smara', 'khadij'])\n"
          ]
        }
      ]
    },
    {
      "cell_type": "code",
      "source": [
        "marks={\n",
        "    'ayesha' : 90,\n",
        "    'smara' : 80,\n",
        "   'khadij' : 20,\n",
        "}\n",
        "\n",
        "print(marks.values())\n",
        "print(marks.keys())"
      ],
      "metadata": {
        "colab": {
          "base_uri": "https://localhost:8080/"
        },
        "id": "zWk6YUu9LOHl",
        "outputId": "d36f112b-d152-4e1a-89d7-8c11df4b3eb3"
      },
      "execution_count": 16,
      "outputs": [
        {
          "output_type": "stream",
          "name": "stdout",
          "text": [
            "dict_values([90, 80, 20])\n",
            "dict_keys(['ayesha', 'smara', 'khadij'])\n"
          ]
        }
      ]
    },
    {
      "cell_type": "code",
      "source": [
        "marks={\n",
        "    'ayesha' : 90,\n",
        "    'smara' : 80,\n",
        "   'khadija' : 20,\n",
        "}\n",
        "marks.update({'ayesha':95,'smara':85,'khadija':75})\n",
        "print(marks)"
      ],
      "metadata": {
        "colab": {
          "base_uri": "https://localhost:8080/"
        },
        "id": "xJ-H22ClM-YN",
        "outputId": "01b8ca07-e288-4196-a0cb-43e9c7f53c72"
      },
      "execution_count": 30,
      "outputs": [
        {
          "output_type": "stream",
          "name": "stdout",
          "text": [
            "{'ayesha': 95, 'smara': 85, 'khadija': 75}\n"
          ]
        }
      ]
    },
    {
      "cell_type": "code",
      "source": [
        "marks={\n",
        "    'ayesha' : 90,\n",
        "    'smara' : 80,\n",
        "   'khadija' : 20,\n",
        "}\n",
        "marks.clear()\n",
        "print(marks)\n"
      ],
      "metadata": {
        "colab": {
          "base_uri": "https://localhost:8080/"
        },
        "id": "X8S35qneOhLN",
        "outputId": "2fd9909c-33d5-4493-fea3-b89f9158fdfb"
      },
      "execution_count": 32,
      "outputs": [
        {
          "output_type": "stream",
          "name": "stdout",
          "text": [
            "{}\n"
          ]
        }
      ]
    },
    {
      "cell_type": "code",
      "source": [
        "my_dict = {\n",
        "    'NAME':'AYESHA',\n",
        "    'AGE':'22',\n",
        "    'FEILD':'AI'\n",
        "    }\n",
        "\n",
        "new_dict = my_dict.copy()\n",
        "\n",
        "new_dict = {\n",
        "    'NAME':'ZARA',\n",
        "    'AGE': '24',\n",
        "    'FEILD': 'BBA'\n",
        "}\n",
        "print(my_dict)\n",
        "print(new_dict)\n"
      ],
      "metadata": {
        "colab": {
          "base_uri": "https://localhost:8080/"
        },
        "id": "ttCOdf5TOtT0",
        "outputId": "632ab848-cbca-4171-921f-7bc447b17393"
      },
      "execution_count": 54,
      "outputs": [
        {
          "output_type": "stream",
          "name": "stdout",
          "text": [
            "{'NAME': 'AYESHA', 'AGE': '22', 'FEILD': 'AI'}\n",
            "{'NAME': 'ZARA', 'AGE': '24', 'FEILD': 'BBA'}\n"
          ]
        }
      ]
    },
    {
      "cell_type": "code",
      "source": [
        "# Original dictionary\n",
        "my_dict = {\n",
        "    'name': 'Ayesha',\n",
        "    'age': 22,\n",
        "    'field': 'AI'\n",
        "}\n",
        "\n",
        "# Make a copy of the dictionary\n",
        "new_dict = my_dict.copy()\n",
        "\n",
        "# Modify the copy\n",
        "new_dict['name'] = 'Zara'\n",
        "new_dict['age'] = 24\n",
        "\n",
        "# Print both to show difference\n",
        "print(\"Original Dictionary:\", my_dict)\n",
        "print(\"Copied & Modified Dictionary:\", new_dict)\n"
      ],
      "metadata": {
        "colab": {
          "base_uri": "https://localhost:8080/"
        },
        "id": "CTho2lgMQu3t",
        "outputId": "c399738a-ffd0-4646-e58d-37f5a3d62cef"
      },
      "execution_count": 44,
      "outputs": [
        {
          "output_type": "stream",
          "name": "stdout",
          "text": [
            "Original Dictionary: {'name': 'Ayesha', 'age': 22, 'field': 'AI'}\n",
            "Copied & Modified Dictionary: {'name': 'Zara', 'age': 24, 'field': 'AI'}\n"
          ]
        }
      ]
    },
    {
      "cell_type": "markdown",
      "source": [
        "**Sets**"
      ],
      "metadata": {
        "id": "s6Ru5JE2bryQ"
      }
    },
    {
      "cell_type": "code",
      "source": [
        "S1 = {45,67,89,90,99,100}\n",
        "S2 = {10,20,30,40,50,60,100}\n",
        "print(S1.intersection(S2))\n",
        "print(S1.union(S2))\n",
        "print(S1.difference(S2))\n",
        "\n"
      ],
      "metadata": {
        "colab": {
          "base_uri": "https://localhost:8080/"
        },
        "id": "W9uNb0ciTHRZ",
        "outputId": "202d119d-f43f-4a16-f8cf-c10360162148"
      },
      "execution_count": 62,
      "outputs": [
        {
          "output_type": "stream",
          "name": "stdout",
          "text": [
            "{100}\n",
            "{67, 99, 100, 40, 10, 45, 50, 20, 89, 90, 60, 30}\n",
            "{99, 67, 45, 89, 90}\n"
          ]
        }
      ]
    },
    {
      "cell_type": "code",
      "source": [
        "S1 = {45,67,89,90,99,100}\n",
        "S2 = {10,20,30,40,50,60,100}\n",
        "\n",
        "print(S1.intersection(S2))\n",
        "print(S1.union(S2))\n",
        "print(S1.difference(S2))\n",
        "\n",
        "#print(S2.difference(S1)\n",
        "#print(S1.issubset(S2))\n",
        "#print(S1.issuperset(S2))\n",
        "#print(S1.isdisjoint(S2))\n",
        "\n",
        "#print(S2.issubset(S1))\n",
        "#print(S2.issuperset(S1))\n",
        "#print(S2.isdisjoint(S1))\n",
        "\n",
        "\n",
        "\n",
        "\n"
      ],
      "metadata": {
        "colab": {
          "base_uri": "https://localhost:8080/"
        },
        "id": "ofODiJmpYjWI",
        "outputId": "c03d70e6-ec99-45bd-b2f9-cb7f216162da"
      },
      "execution_count": 10,
      "outputs": [
        {
          "output_type": "stream",
          "name": "stdout",
          "text": [
            "{100}\n",
            "{67, 99, 100, 40, 10, 45, 50, 20, 89, 90, 60, 30}\n",
            "{99, 67, 45, 89, 90}\n"
          ]
        }
      ]
    },
    {
      "cell_type": "code",
      "source": [
        "S1 = {45,67,89,90,99,100}\n",
        "S2 = {45,67,89,90,99,100}\n",
        "\n",
        "print(S2.issubset(S1))\n",
        "print(S2.issuperset(S1))\n",
        "print(S2.isdisjoint(S1))\n",
        "\n",
        "\n",
        "\n"
      ],
      "metadata": {
        "colab": {
          "base_uri": "https://localhost:8080/"
        },
        "id": "ZL7ymCpX-jAG",
        "outputId": "3a76d417-c14e-4eb4-d078-824bde0a085a"
      },
      "execution_count": 8,
      "outputs": [
        {
          "output_type": "stream",
          "name": "stdout",
          "text": [
            "True\n",
            "True\n",
            "False\n"
          ]
        }
      ]
    },
    {
      "cell_type": "markdown",
      "source": [
        "**Practice Question**"
      ],
      "metadata": {
        "id": "e7PTWCWCAHNi"
      }
    },
    {
      "cell_type": "code",
      "source": [
        "words = {\n",
        "    'meez': 'table',\n",
        "    'maddad': 'help',\n",
        "    'kursi': 'chair',\n",
        "    'kitab': 'book'\n",
        "}\n",
        "\n",
        "word = input('enter the words:')\n",
        "\n",
        "print(words[word])"
      ],
      "metadata": {
        "colab": {
          "base_uri": "https://localhost:8080/"
        },
        "id": "AGBw5TiIB9C1",
        "outputId": "500ea778-7785-414b-dfa6-6f8be39d29e8"
      },
      "execution_count": 26,
      "outputs": [
        {
          "output_type": "stream",
          "name": "stdout",
          "text": [
            "enter the words:kursi\n",
            "chair\n"
          ]
        }
      ]
    },
    {
      "cell_type": "code",
      "source": [
        "words = {\n",
        "    'meez': 'table',\n",
        "    'maddad': 'help',\n",
        "    'kursi': 'chair',\n",
        "    'kitab': 'book'\n",
        "}\n",
        "\n",
        "word = input('enter the words:')\n",
        "\n",
        "if word in words:\n",
        "  print(words[word])\n",
        "\n",
        "else:\n",
        "  print('word not found')"
      ],
      "metadata": {
        "colab": {
          "base_uri": "https://localhost:8080/"
        },
        "id": "Aa-ZVdCBAF7M",
        "outputId": "b35f9c68-4092-4a9b-bf10-ebac486cfe33"
      },
      "execution_count": 21,
      "outputs": [
        {
          "output_type": "stream",
          "name": "stdout",
          "text": [
            "enter the words:qalam\n",
            "word not found\n"
          ]
        }
      ]
    },
    {
      "cell_type": "code",
      "source": [
        "s = set()\n",
        "n = input('enter the number:')\n",
        "s.add(int(n))\n",
        "n = input('enter the number:')\n",
        "s.add(int(n))\n",
        "n = input('enter the number:')\n",
        "s.add(int(n))\n",
        "n = input('enter the number:')\n",
        "s.add(int(n))\n",
        "n = input('enter the number:')\n",
        "s.add(int(n))\n",
        "n = input('enter the number:')\n",
        "s.add(int(n))\n",
        "n = input('enter the number:')\n",
        "s.add(int(n))\n",
        "n = input('enter the number:')\n",
        "s.add(int(n))\n",
        "\n",
        "print('set',s)\n",
        "\n"
      ],
      "metadata": {
        "colab": {
          "base_uri": "https://localhost:8080/"
        },
        "id": "lexfB2uiDF6B",
        "outputId": "86a0e9f5-ef04-45fe-96e6-27beb7c3c5d0"
      },
      "execution_count": 29,
      "outputs": [
        {
          "output_type": "stream",
          "name": "stdout",
          "text": [
            "enter the number:99\n",
            "enter the number:90\n",
            "enter the number:98\n",
            "enter the number:87\n",
            "enter the number:76\n",
            "enter the number:65\n",
            "enter the number:54\n",
            "enter the number:43\n",
            "set {65, 98, 99, 43, 76, 54, 87, 90}\n"
          ]
        }
      ]
    },
    {
      "cell_type": "code",
      "source": [
        "s = set()\n",
        "s.add(30)\n",
        "s.add(30.23)\n",
        "s.add('30')\n",
        "\n",
        "print(len(s))"
      ],
      "metadata": {
        "colab": {
          "base_uri": "https://localhost:8080/"
        },
        "id": "M1eXKOe0EYnU",
        "outputId": "bdaa3c3b-f017-4d8d-d0db-04ab6772a419"
      },
      "execution_count": 32,
      "outputs": [
        {
          "output_type": "stream",
          "name": "stdout",
          "text": [
            "3\n"
          ]
        }
      ]
    },
    {
      "cell_type": "code",
      "source": [
        "d = {}\n",
        "n = input('enter name:')\n",
        "l = input('enter the language:')\n",
        "d.update({n:l})\n",
        "\n",
        "n = input('enter name:')\n",
        "l = input('enter the language:')\n",
        "d.update({n:l})\n",
        "\n",
        "n = input('enter name:')\n",
        "l = input('enter the language:')\n",
        "d.update({n:l})\n",
        "\n",
        "n = input('enter name:')\n",
        "l = input('enter the language:')\n",
        "d.update({n:l})\n",
        "\n",
        "print(d)"
      ],
      "metadata": {
        "colab": {
          "base_uri": "https://localhost:8080/"
        },
        "id": "Uj7S4y_nNCOy",
        "outputId": "01ab5ed7-86a9-4948-af7e-a12fd07457ae"
      },
      "execution_count": 35,
      "outputs": [
        {
          "output_type": "stream",
          "name": "stdout",
          "text": [
            "enter name:AYESHA\n",
            "enter the language:PYTHON\n",
            "enter name:SMARA\n",
            "enter the language:C++\n",
            "enter name:RAZZAQ \n",
            "enter the language:PHP\n",
            "enter name:ALI\n",
            "enter the language:CPP\n",
            "{'AYESHA': 'PYTHON', 'SMARA': 'C++', 'RAZZAQ ': 'PHP', 'ALI': 'CPP'}\n"
          ]
        }
      ]
    }
  ]
}